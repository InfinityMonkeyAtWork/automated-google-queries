{
 "cells": [
  {
   "cell_type": "markdown",
   "metadata": {},
   "source": [
    "#### info for google package"
   ]
  },
  {
   "cell_type": "markdown",
   "metadata": {},
   "source": [
    "search(query, tld='com', lang='en', num=10, start=0, stop=None, pause=2.0)\n",
    "\n",
    "    query : query string that we want to search for.\n",
    "    tld : tld stands for top level domain which means we want to search our result on google.com or google.in or some other domain.\n",
    "    lang : lang stands for language.\n",
    "    num : Number of results we want.\n",
    "    start : First result to retrieve.\n",
    "    stop : Last result to retrieve. Use None to keep searching forever.\n",
    "    pause : Lapse to wait between HTTP requests. Lapse too short may cause Google to block your IP. Keeping significant lapse will make your program slow but its safe and better option.\n",
    "    Return : Generator (iterator) that yields found URLs. If the stop parameter is None the iterator will loop forever."
   ]
  },
  {
   "cell_type": "markdown",
   "metadata": {},
   "source": [
    "#### import google python package"
   ]
  },
  {
   "cell_type": "code",
   "execution_count": 3,
   "metadata": {},
   "outputs": [],
   "source": [
    "try: \n",
    "    from googlesearch import search \n",
    "except ImportError:  \n",
    "    print(\"No module named 'google' found\")\n",
    "    print(\"i) hit windows key\")\n",
    "    print(\"ii) search for and open anaconda prompt\")\n",
    "    print(\"iii) type: pip install google\")\n",
    "    print(\"iv) hit enter and wait for the package to install\")"
   ]
  },
  {
   "cell_type": "markdown",
   "metadata": {},
   "source": [
    "**example 1**:\n",
    "simply use the \"search\" function from the \"google\" package\n",
    "this returns the weblink which is the first search result (as stop=1)"
   ]
  },
  {
   "cell_type": "code",
   "execution_count": 30,
   "metadata": {},
   "outputs": [
    {
     "name": "stdout",
     "output_type": "stream",
     "text": [
      "https://www.uniprot.org/uniprot/P24752\n"
     ]
    }
   ],
   "source": [
    "# search string\n",
    "query = \"uniprot acetyl-CoA acetyltransferase, mitochondrial precursor [Homo sapiens]\"\n",
    "  \n",
    "for geneWebpage in search(query, tld=\"com\", num=10, start=0, stop=1, pause=2): \n",
    "    print(geneWebpage) "
   ]
  },
  {
   "cell_type": "markdown",
   "metadata": {},
   "source": [
    "**example 2**: search google until a hit containing a certain string is found"
   ]
  },
  {
   "cell_type": "code",
   "execution_count": 51,
   "metadata": {},
   "outputs": [
    {
     "name": "stdout",
     "output_type": "stream",
     "text": [
      "https://barackobama.com/\n",
      "https://en.wikipedia.org/wiki/Barack_Obama\n",
      "https://twitter.com/barackobama\n",
      "https://www.britannica.com/biography/Barack-Obama\n",
      "https://www.history.com/topics/us-presidents/barack-obama\n",
      "https://www.facebook.com/barackobama/\n",
      "https://www.chicagotribune.com/topic/politics-government/government/barack-obama-PEPLT007408-topic.html\n",
      "7\n"
     ]
    }
   ],
   "source": [
    "query = \"Barack Obama\" # search string\n",
    "# you can try \"twitter\", \"wikipedia\", \"chicago\", \"trump\" e.g.\n",
    "URLstr = \"chicago\" # string to be found in link that is google hit\n",
    "nrSearchesMAX = 10 # define the maximum number of searches to be conducted\n",
    "nrSearches = 0 # initialize searches counter\n",
    "for hit in search(query, tld=\"com\", num=1, start=0, stop=nrSearchesMAX, pause=2): \n",
    "    print(hit) # prints the websites found by google\n",
    "    nrSearches = nrSearches+1\n",
    "    if hit.find(URLstr) == -1: # URLstr was not found\n",
    "        if nrSearches == nrSearchesMAX:\n",
    "            print(\"Maximum number of searches reached. <URLstr> not found in google hits.\")\n",
    "    else: # URLstr was found\n",
    "        print(nrSearches)\n",
    "        break"
   ]
  },
  {
   "cell_type": "markdown",
   "metadata": {},
   "source": [
    "**example 3**: write a function that searches until a website containing a certain search string is found (see example 2), <br>\n",
    "pull the html text from that website and seach for information in that text"
   ]
  },
  {
   "cell_type": "code",
   "execution_count": 49,
   "metadata": {},
   "outputs": [],
   "source": [
    "# import requests which allows getting info (html) from and interacting with webpage\n",
    "import requests"
   ]
  },
  {
   "cell_type": "code",
   "execution_count": null,
   "metadata": {},
   "outputs": [],
   "source": [
    "# define a function that we weill need in the main function below\n",
    "# find all instances of sub in strIN\n",
    "# find overlapping matches is slower but can be done\n",
    "def findAll(strIN, sub):\n",
    "    # help docstring for this function:\n",
    "    \"this function finds all instances of <sub> in <strIN> and returns a list of indices of where the matches start in <strIN>\"\n",
    "    start = 0\n",
    "    while True:\n",
    "        start = strIN.find(sub, start)\n",
    "        if start == -1: return\n",
    "        yield start\n",
    "        # non-overlapping matches, faster:\n",
    "        start += len(sub) \n",
    "        # find overlapping matches, slower:\n",
    "        #start += 1\n",
    "#\n",
    "# use like so:\n",
    "#listIND = list(findAll(textStr, searchStr))"
   ]
  },
  {
   "cell_type": "code",
   "execution_count": 80,
   "metadata": {},
   "outputs": [],
   "source": [
    "# define funtion that gets a gene symbol from link found with google search (aiming at uniprot website results)\n",
    "def getGeneSymbol(geneDescription, URLstr, nrSearchesMAX):\n",
    "    # help docstring for this function:\n",
    "    \"define funtion that gets a gene symbol from link found with google search (aiming at uniprot website results)\"\n",
    "    nrSearches = 0 # initialize searches counter\n",
    "    # get google results for gene descriptions\n",
    "    query = \"uniprot \" + geneDescription\n",
    "    for hit in search(query, tld=\"com\", num=1, stop=nrSearchesMAX, pause=2):\n",
    "        print(hit) # prints the websites found by google\n",
    "        nrSearches = nrSearches+1\n",
    "        if hit.find(URLstr) == -1: # URLstr was not found\n",
    "            if nrSearches == nrSearchesMAX:\n",
    "                print(\"Maximum number of searches reached. <URLstr> not found in google hits.\")\n",
    "                return(\"-\")\n",
    "        else: # URLstr was found\n",
    "            print(nrSearches)\n",
    "            page = requests.get(hit) # get page info from google hit\n",
    "            # search for \"GN=\" which is where gene symbol name is stored in webpage text\n",
    "            GNindStart = list(findAll(page.text, \"GN=\"))\n",
    "            if len(GNindStart) > 1:\n",
    "                print(\"more than one instance of <GN=> found!\")\n",
    "                return(\"-\")\n",
    "            elif len(GNindStart) == 0:\n",
    "                print(\"no instance of <GN=> found!\")\n",
    "                return(\"-\")\n",
    "            else:\n",
    "                #print(\"Index of instance: \" + str(IDlistIND[instance]))\n",
    "                geneSym = page.text[GNindStart[0]:]\n",
    "                # find next space which on this website happens to separate the different entries\n",
    "                geneSymStop = geneSym.find(' ')\n",
    "                # get string between \"GN=\" and \"space\"\n",
    "                geneSym = geneSym[3:geneSymStop] # 3 is the length of the string GN=\n",
    "                return(geneSym)\n",
    "#\n",
    "# use like so:\n",
    "#geneDescription = \"uniprot acetyl-CoA acetyltransferase, mitochondrial precursor [Homo sapiens]\"\n",
    "#geneSymbol = getGeneSymbol(geneDescription, \"uniprot.org\", 5)\n",
    "#print(geneSymbol)"
   ]
  },
  {
   "cell_type": "code",
   "execution_count": 81,
   "metadata": {},
   "outputs": [
    {
     "name": "stdout",
     "output_type": "stream",
     "text": [
      "https://www.uniprot.org/uniprot/P24752\n",
      "1\n",
      "ACAT1\n"
     ]
    }
   ],
   "source": [
    "# use function\n",
    "geneDescription = \"uniprot acetyl-CoA acetyltransferase, mitochondrial precursor [Homo sapiens]\"\n",
    "geneSymbol = getGeneSymbol(geneDescription, \"uniprot.org\", 5)\n",
    "print(geneSymbol)"
   ]
  }
 ],
 "metadata": {
  "kernelspec": {
   "display_name": "Python 3",
   "language": "python",
   "name": "python3"
  },
  "language_info": {
   "codemirror_mode": {
    "name": "ipython",
    "version": 3
   },
   "file_extension": ".py",
   "mimetype": "text/x-python",
   "name": "python",
   "nbconvert_exporter": "python",
   "pygments_lexer": "ipython3",
   "version": "3.7.1"
  }
 },
 "nbformat": 4,
 "nbformat_minor": 2
}
